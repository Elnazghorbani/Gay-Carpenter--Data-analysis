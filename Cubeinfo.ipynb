{
 "cells": [
  {
   "cell_type": "markdown",
   "metadata": {},
   "source": [
    "# This file contains the code for genrating the cube figure and create the information of every individual cubes (coordinates, depth, etc..)"
   ]
  },
  {
   "cell_type": "code",
   "execution_count": null,
   "metadata": {},
   "outputs": [],
   "source": [
    "import matplotlib.pyplot as plt\n",
    "from mpl_toolkits.mplot3d import Axes3D\n",
    "import numpy as np\n",
    "import pandas as pd\n",
    "%matplotlib inline\n",
    "\n",
    "\n",
    "# Create axis\n",
    "axes = [9, 12, 10]\n",
    "\n",
    "# Create Data\n",
    "data = np.ones(axes, dtype=np.bool)\n",
    "\n",
    "# Plot figure\n",
    "fig = plt.figure()\n",
    "ax = fig.add_subplot(111, projection='3d')\n",
    "plt.title(\"Cube\")\n",
    "ax.set_xlabel(\"Longitude\")\n",
    "ax.set_ylabel(\"Latitude\")\n",
    "ax.set_zlabel(\"Depth\")\n",
    "\n",
    "# Voxels is used to customizations of the sizes, positions and colors.\n",
    "ax.voxels(data, edgecolors='grey')\n",
    "plt.show()"
   ]
  },
  {
   "cell_type": "code",
   "execution_count": null,
   "metadata": {},
   "outputs": [],
   "source": [
    "data= pd.read_csv('Greece_EQ_Euro_wDS_AIR_CT19.csv', sep=',')\n",
    "data['r_loss']= data['Loss'] * data['Rate']\n",
    "data"
   ]
  },
  {
   "cell_type": "code",
   "execution_count": 17,
   "metadata": {},
   "outputs": [
    {
     "name": "stdout",
     "output_type": "stream",
     "text": [
      "19\n",
      "20\n",
      "21\n",
      "22\n",
      "23\n",
      "24\n",
      "25\n",
      "26\n",
      "27\n",
      "28\n",
      "29\n",
      "30\n"
     ]
    }
   ],
   "source": [
    "x, xmax, resolution= 19, 31, 1\n",
    "y, ymax= 34, 43\n",
    "depth, maxdepth, depth_range =0, 200, 20\n",
    "minx, maxx, miny, maxy, mind, maxd, num_events=[],[],[],[],[],[],[]\n",
    "cube_id=0\n",
    "idlist=[]\n",
    "loss_sum=[]\n",
    "while x + resolution <= xmax:\n",
    "    while y + resolution <= ymax:\n",
    "        while depth + depth_range <= maxdepth:\n",
    "            minx.append(x)\n",
    "            maxx.append(x + resolution)\n",
    "            miny.append(y)\n",
    "            maxy.append(y + resolution)\n",
    "            mind.append(depth)\n",
    "            numbers= data.EventID.loc[data.Longitude.between(x, x+resolution, inclusive=\"left\") & data.Latitude.between(y, y+resolution,inclusive=\"left\") & data.FocalDepth.between(depth, depth+ depth_range, inclusive=\"left\")].count()\n",
    "            loss_sum.append(data.r_loss.loc[data.Longitude.between(x, x+resolution, inclusive=\"left\") & data.Latitude.between(y, y+resolution,inclusive=\"left\") & data.FocalDepth.between(depth, depth+ depth_range, inclusive=\"left\")].sum())\n",
    "            num_events.append(numbers)\n",
    "            depth+=depth_range\n",
    "            maxd.append(depth)\n",
    "            cube_id+=1\n",
    "            idlist.append(cube_id)\n",
    "            \n",
    "        depth=0\n",
    "        y+=resolution\n",
    "    y=34\n",
    "    print(x)\n",
    "    x+=resolution\n",
    "\n",
    "result= pd.DataFrame()\n",
    "result['cube_ID']= pd.DataFrame(idlist)\n",
    "result['min_x']= pd.DataFrame(minx)\n",
    "result['max_x']= pd.DataFrame(maxx)\n",
    "result['min_y']= pd.DataFrame(miny)\n",
    "result['max_y']= pd.DataFrame(maxy)\n",
    "result['min_depth']= pd.DataFrame(mind)\n",
    "result['max_depth']= pd.DataFrame(maxd)\n",
    "result['num_events']= pd.DataFrame(num_events)\n",
    "result['loss_sum']= pd.DataFrame(loss_sum)\n",
    "result.to_csv(path_or_buf='Cubeinfo.csv', index=False)"
   ]
  },
  {
   "cell_type": "code",
   "execution_count": 18,
   "metadata": {},
   "outputs": [
    {
     "data": {
      "text/html": [
       "<div>\n",
       "<style scoped>\n",
       "    .dataframe tbody tr th:only-of-type {\n",
       "        vertical-align: middle;\n",
       "    }\n",
       "\n",
       "    .dataframe tbody tr th {\n",
       "        vertical-align: top;\n",
       "    }\n",
       "\n",
       "    .dataframe thead th {\n",
       "        text-align: right;\n",
       "    }\n",
       "</style>\n",
       "<table border=\"1\" class=\"dataframe\">\n",
       "  <thead>\n",
       "    <tr style=\"text-align: right;\">\n",
       "      <th></th>\n",
       "      <th>cube_ID</th>\n",
       "      <th>min_x</th>\n",
       "      <th>max_x</th>\n",
       "      <th>min_y</th>\n",
       "      <th>max_y</th>\n",
       "      <th>min_depth</th>\n",
       "      <th>max_depth</th>\n",
       "      <th>num_events</th>\n",
       "      <th>loss_sum</th>\n",
       "    </tr>\n",
       "  </thead>\n",
       "  <tbody>\n",
       "    <tr>\n",
       "      <th>130</th>\n",
       "      <td>131</td>\n",
       "      <td>20</td>\n",
       "      <td>21</td>\n",
       "      <td>38</td>\n",
       "      <td>39</td>\n",
       "      <td>0</td>\n",
       "      <td>20</td>\n",
       "      <td>8344</td>\n",
       "      <td>4.108456e+07</td>\n",
       "    </tr>\n",
       "  </tbody>\n",
       "</table>\n",
       "</div>"
      ],
      "text/plain": [
       "     cube_ID  min_x  max_x  min_y  max_y  min_depth  max_depth  num_events  \\\n",
       "130      131     20     21     38     39          0         20        8344   \n",
       "\n",
       "         loss_sum  \n",
       "130  4.108456e+07  "
      ]
     },
     "execution_count": 18,
     "metadata": {},
     "output_type": "execute_result"
    }
   ],
   "source": [
    "result= pd.read_csv('Cubeinfo.csv', sep=',')\n",
    "result[result.num_events==result.num_events.max()]"
   ]
  }
 ],
 "metadata": {
  "kernelspec": {
   "display_name": "Python 3 (ipykernel)",
   "language": "python",
   "name": "python3"
  },
  "language_info": {
   "codemirror_mode": {
    "name": "ipython",
    "version": 3
   },
   "file_extension": ".py",
   "mimetype": "text/x-python",
   "name": "python",
   "nbconvert_exporter": "python",
   "pygments_lexer": "ipython3",
   "version": "3.9.7"
  }
 },
 "nbformat": 4,
 "nbformat_minor": 4
}
