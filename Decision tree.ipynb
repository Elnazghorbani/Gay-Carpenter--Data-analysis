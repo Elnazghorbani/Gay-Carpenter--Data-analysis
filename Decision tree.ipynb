{
 "cells": [
  {
   "cell_type": "markdown",
   "id": "cbd1c390-8e3c-492f-9d36-01056b6b40a0",
   "metadata": {},
   "source": [
    "# Decision Tree\n",
    "# This file contains the Decision Tree models for the 18 cubes and the corresponding EP curve."
   ]
  },
  {
   "cell_type": "code",
   "execution_count": null,
   "id": "d8477ba1-90ab-4413-a56b-83911dbacc70",
   "metadata": {},
   "outputs": [],
   "source": [
    "from sklearn.tree import DecisionTreeRegressor, plot_tree\n",
    "from sklearn import tree\n",
    "from sklearn.model_selection import train_test_split\n",
    "import warnings\n",
    "warnings.filterwarnings(\"ignore\")\n",
    "import pandas as pd\n",
    "import math\n",
    "import matplotlib.pyplot as plt\n",
    "%matplotlib inlines\n",
    "\n",
    "data= pd.read_csv('Greece_EQ_Euro_wDS_AIR_CT19.csv', sep=',')\n",
    "train, test = train_test_split(data, test_size=0.2, random_state=42)\n",
    "train= train.loc[train.Longitude.between(19, 31, inclusive=\"both\") & train.Latitude.between(34, 43, inclusive=\"both\")]\n",
    "test= test.loc[test.Longitude.between(19, 31, inclusive=\"both\") & test.Latitude.between(34, 43, inclusive=\"both\")]\n",
    "real_data = True # Set real_data to true if we want to make predictions on real data\n",
    "if real_data: test = pd.read_csv('Real earthquakes.csv', sep=',') # Change the test dataset to real data\n",
    "\n",
    "dt_depth=8\n",
    "reg = DecisionTreeRegressor(max_depth=dt_depth, random_state=42)\n",
    "\n",
    "test['predicted_loss']=0\n",
    "x, xmax, xresolution= 19, 31, 4\n",
    "y, ymax, yresolution= 34, 43, 3\n",
    "depth, maxdepth, depth_range =0, 200, 100\n",
    "\n",
    "numbers=0\n",
    "num=0\n",
    "\n",
    "while x + xresolution <= xmax:\n",
    "    while y + yresolution <= ymax:\n",
    "        while depth + depth_range <= maxdepth:\n",
    "            auxtrain= train.loc[train.Longitude.between(x, x+xresolution, inclusive=\"left\") & train.Latitude.between(y, y+yresolution, inclusive=\"left\") & train.FocalDepth.between(depth, depth+ depth_range, inclusive=\"left\")]\n",
    "            auxtest= test.loc[test.Longitude.between(x, x+xresolution, inclusive=\"left\") & test.Latitude.between(y, y+yresolution, inclusive=\"left\") & test.FocalDepth.between(depth, depth+ depth_range, inclusive=\"left\")]\n",
    "            if len(auxtest)>0:\n",
    "                reg.fit(auxtrain[['Magnitude','FocalDepth','Longitude','Latitude']], auxtrain['Loss'])\n",
    "                text_representation = tree.export_text(reg)\n",
    "                with open('decision_tree_depth'+str(dt_depth)+'_EQ.txt', \"w\") as fout:\n",
    "                    fout.write(text_representation)\n",
    "                test_variables= auxtest[['Magnitude','FocalDepth','Longitude','Latitude']]\n",
    "                prediction = reg.predict(test_variables)\n",
    "                test.predicted_loss.loc[test.Longitude.between(x, x+xresolution, inclusive=\"left\") & test.Latitude.between(y, y+yresolution, inclusive=\"left\") & test.FocalDepth.between(depth, depth+ depth_range, inclusive=\"left\")]=prediction\n",
    "                numbers+=1  \n",
    "            depth+=depth_range\n",
    "            num+=1\n",
    "        depth=0\n",
    "        y+=yresolution\n",
    "    y=34\n",
    "    #print(x)\n",
    "    x+=xresolution\n",
    "\n",
    "result= test[['predicted_loss']]\n",
    "test.predicted_loss.loc[test['predicted_loss']<0]=0 # make negative predictions to 0 \n",
    "if not real_data:\n",
    "    MSE= (test.predicted_loss - test.Loss) * (test.predicted_loss - test.Loss)\n",
    "    print('MAE:', mean_absolute_error(test['Loss'],test['predicted_loss']))\n",
    "    print('MSE:', MSE.mean())\n",
    "    print('RMSE:', math.sqrt(MSE.mean()))\n",
    "    print(\"Number of equations\", numbers)\n",
    "    print(\"Number of layers\", layers)\n",
    "    #plt.plot(test['Magnitude'], test['predicted_loss'],'bo', markersize=2.5, alpha=0.2)\n",
    "    #plt.plot(test['Magnitude'], test['Loss'],'ro', markersize=2.5, alpha=0.2)\n",
    "    #plt.plot(test['Loss'], test['predicted_loss'],'ro', markersize=2.5, alpha=0.2)\n",
    "    #plt.xlabel('Magnitude')\n",
    "    #plt.ylabel('Loss')\n",
    "    #plt.title('Piecewise function')\n",
    "    fig = plt.figure(figsize=(25,20))\n",
    "    feature= ['Magnitude','FocalDepth','Longitude','Latitude']\n",
    "    tp= plot_tree(reg, feature_names=feature ,filled=True)\n",
    "    title= 'dt_depth'+str(dt_depth)+'.pdf'\n",
    "    #fig.savefig(title)\n",
    "else:\n",
    "    print(test)"
   ]
  },
  {
   "cell_type": "code",
   "execution_count": 7,
   "id": "c319f4cc-f09f-4d13-ac8d-b26bfc0ceeb1",
   "metadata": {},
   "outputs": [
    {
     "data": {
      "text/plain": [
       "61"
      ]
     },
     "execution_count": 7,
     "metadata": {},
     "output_type": "execute_result"
    }
   ],
   "source": [
    "reg.get_n_leaves()"
   ]
  },
  {
   "cell_type": "code",
   "execution_count": 128,
   "id": "28ecc5ca-61be-4054-8f25-817485e32f81",
   "metadata": {},
   "outputs": [
    {
     "data": {
      "text/plain": [
       "0.9998862193758887"
      ]
     },
     "execution_count": 128,
     "metadata": {},
     "output_type": "execute_result"
    }
   ],
   "source": [
    "reg.score(variables, loss)"
   ]
  },
  {
   "cell_type": "code",
   "execution_count": 129,
   "id": "13f469ca-1e0a-48d5-b92b-b68ae1c0bd9d",
   "metadata": {},
   "outputs": [
    {
     "data": {
      "text/plain": [
       "1.0"
      ]
     },
     "execution_count": 129,
     "metadata": {},
     "output_type": "execute_result"
    }
   ],
   "source": [
    "reg.score(test_variables, prediction)"
   ]
  },
  {
   "cell_type": "code",
   "execution_count": 90,
   "id": "7217161c-ca7a-4b38-84f5-6eba2df7c4b0",
   "metadata": {},
   "outputs": [
    {
     "data": {
      "text/plain": [
       "array([0.63494612, 0.        , 0.1797981 , 0.18525578])"
      ]
     },
     "execution_count": 90,
     "metadata": {},
     "output_type": "execute_result"
    }
   ],
   "source": [
    "reg.feature_importances_"
   ]
  },
  {
   "cell_type": "code",
   "execution_count": 126,
   "id": "30a09343-d9f2-4471-892e-968ba920fb77",
   "metadata": {},
   "outputs": [
    {
     "data": {
      "image/png": "[encoded data removed]",
      "text/plain": [
       "<Figure size 720x216 with 2 Axes>"
      ]
     },
     "metadata": {
      "needs_background": "light"
     },
     "output_type": "display_data"
    }
   ],
   "source": [
    "import matplotlib.pyplot as plt\n",
    "import pandas as pd\n",
    "%matplotlib inline\n",
    "\n",
    "test= test.sort_values(by='Loss',ascending=False, ignore_index=True)\n",
    "rank= [10000/i for i in range(1,test.shape[0]+1)]\n",
    "rank= pd.DataFrame(rank)\n",
    "test['rp']= rank.values\n",
    "\n",
    "result= result.sort_values(by='predicted_loss',ascending=False, ignore_index=True)\n",
    "result['rp']= rank.values\n",
    "result2=result.loc[result.rp.between(10, 300, inclusive=\"both\")]\n",
    "test2=test.loc[test.rp.between(10, 300, inclusive=\"both\")]\n",
    "\n",
    "fig, (ax1, ax2) = plt.subplots(1, 2, figsize=(10,3))\n",
    "fig.suptitle('EP curves')\n",
    "\n",
    "ax1.plot(test['rp'], test['Loss'], color=\"blue\", linewidth=2, label='Original EP')\n",
    "ax1.plot(result['rp'], result['predicted_loss'], color=\"red\", linewidth=2, label='Original EP')\n",
    "\n",
    "ax2.plot(test2['rp'], test2['Loss'], color=\"blue\", linewidth=2, label='Original EP')\n",
    "ax2.plot(result2['rp'], result2['predicted_loss'], color=\"red\", linewidth=2, label='Predicted EP')\n",
    "\n",
    "ax1.set_xlabel('Years')\n",
    "ax1.set_ylabel('Loss')\n",
    "ax2.set_xlabel('Years')\n",
    "ax2.set_ylabel('Loss')\n",
    "\n",
    "plt.legend()\n",
    "\n",
    "plt.savefig('Comparison of  EP curve.png', format='png')\n",
    "\n"
   ]
  }
 ],
 "metadata": {
  "kernelspec": {
   "display_name": "Python 3 (ipykernel)",
   "language": "python",
   "name": "python3"
  },
  "language_info": {
   "codemirror_mode": {
    "name": "ipython",
    "version": 3
   },
   "file_extension": ".py",
   "mimetype": "text/x-python",
   "name": "python",
   "nbconvert_exporter": "python",
   "pygments_lexer": "ipython3",
   "version": "3.9.7"
  }
 },
 "nbformat": 4,
 "nbformat_minor": 5
}
