{
 "cells": [
  {
   "cell_type": "code",
   "execution_count": 90,
   "id": "da876a35",
   "metadata": {},
   "outputs": [],
   "source": [
    "import numpy as np\n",
    "import pandas as pd\n",
    "import talib\n",
    "from sklearn.model_selection import train_test_split \n"
   ]
  },
  {
   "cell_type": "code",
   "execution_count": 91,
   "id": "9b2f6f86",
   "metadata": {},
   "outputs": [],
   "source": [
    "import random\n",
    "random.seed(42)"
   ]
  },
  {
   "cell_type": "code",
   "execution_count": 92,
   "id": "66414b46",
   "metadata": {},
   "outputs": [],
   "source": [
    "dataset = pd.read_csv('C://Greece_EQ_Euro_wDS_AIR_CT19.csv')\n"
   ]
  },
  {
   "cell_type": "code",
   "execution_count": 93,
   "id": "ba70be67",
   "metadata": {},
   "outputs": [
    {
     "data": {
      "text/html": [
       "<div>\n",
       "<style scoped>\n",
       "    .dataframe tbody tr th:only-of-type {\n",
       "        vertical-align: middle;\n",
       "    }\n",
       "\n",
       "    .dataframe tbody tr th {\n",
       "        vertical-align: top;\n",
       "    }\n",
       "\n",
       "    .dataframe thead th {\n",
       "        text-align: right;\n",
       "    }\n",
       "</style>\n",
       "<table border=\"1\" class=\"dataframe\">\n",
       "  <thead>\n",
       "    <tr style=\"text-align: right;\">\n",
       "      <th></th>\n",
       "      <th>Loss</th>\n",
       "      <th>Magnitude</th>\n",
       "      <th>FocalDepth</th>\n",
       "      <th>Longitude</th>\n",
       "      <th>Latitude</th>\n",
       "      <th>Rate</th>\n",
       "    </tr>\n",
       "  </thead>\n",
       "  <tbody>\n",
       "    <tr>\n",
       "      <th>0</th>\n",
       "      <td>0.0</td>\n",
       "      <td>5.59</td>\n",
       "      <td>21.6</td>\n",
       "      <td>56.854</td>\n",
       "      <td>28.363</td>\n",
       "      <td>0.0001</td>\n",
       "    </tr>\n",
       "    <tr>\n",
       "      <th>1</th>\n",
       "      <td>0.0</td>\n",
       "      <td>5.22</td>\n",
       "      <td>13.7</td>\n",
       "      <td>-29.652</td>\n",
       "      <td>49.738</td>\n",
       "      <td>0.0001</td>\n",
       "    </tr>\n",
       "    <tr>\n",
       "      <th>2</th>\n",
       "      <td>0.0</td>\n",
       "      <td>5.02</td>\n",
       "      <td>4.6</td>\n",
       "      <td>23.078</td>\n",
       "      <td>34.703</td>\n",
       "      <td>0.0001</td>\n",
       "    </tr>\n",
       "    <tr>\n",
       "      <th>3</th>\n",
       "      <td>0.0</td>\n",
       "      <td>5.60</td>\n",
       "      <td>24.3</td>\n",
       "      <td>-10.544</td>\n",
       "      <td>30.328</td>\n",
       "      <td>0.0001</td>\n",
       "    </tr>\n",
       "    <tr>\n",
       "      <th>4</th>\n",
       "      <td>0.0</td>\n",
       "      <td>5.50</td>\n",
       "      <td>2.7</td>\n",
       "      <td>19.881</td>\n",
       "      <td>37.587</td>\n",
       "      <td>0.0001</td>\n",
       "    </tr>\n",
       "    <tr>\n",
       "      <th>...</th>\n",
       "      <td>...</td>\n",
       "      <td>...</td>\n",
       "      <td>...</td>\n",
       "      <td>...</td>\n",
       "      <td>...</td>\n",
       "      <td>...</td>\n",
       "    </tr>\n",
       "    <tr>\n",
       "      <th>817246</th>\n",
       "      <td>0.0</td>\n",
       "      <td>5.20</td>\n",
       "      <td>5.0</td>\n",
       "      <td>-44.213</td>\n",
       "      <td>27.002</td>\n",
       "      <td>0.0001</td>\n",
       "    </tr>\n",
       "    <tr>\n",
       "      <th>817247</th>\n",
       "      <td>0.0</td>\n",
       "      <td>5.16</td>\n",
       "      <td>13.3</td>\n",
       "      <td>10.110</td>\n",
       "      <td>45.196</td>\n",
       "      <td>0.0001</td>\n",
       "    </tr>\n",
       "    <tr>\n",
       "      <th>817248</th>\n",
       "      <td>0.0</td>\n",
       "      <td>5.15</td>\n",
       "      <td>60.3</td>\n",
       "      <td>48.142</td>\n",
       "      <td>33.263</td>\n",
       "      <td>0.0001</td>\n",
       "    </tr>\n",
       "    <tr>\n",
       "      <th>817249</th>\n",
       "      <td>0.0</td>\n",
       "      <td>5.40</td>\n",
       "      <td>114.9</td>\n",
       "      <td>24.971</td>\n",
       "      <td>36.428</td>\n",
       "      <td>0.0001</td>\n",
       "    </tr>\n",
       "    <tr>\n",
       "      <th>817250</th>\n",
       "      <td>0.0</td>\n",
       "      <td>5.29</td>\n",
       "      <td>11.9</td>\n",
       "      <td>28.491</td>\n",
       "      <td>38.403</td>\n",
       "      <td>0.0001</td>\n",
       "    </tr>\n",
       "  </tbody>\n",
       "</table>\n",
       "<p>817251 rows × 6 columns</p>\n",
       "</div>"
      ],
      "text/plain": [
       "        Loss  Magnitude  FocalDepth  Longitude  Latitude    Rate\n",
       "0        0.0       5.59        21.6     56.854    28.363  0.0001\n",
       "1        0.0       5.22        13.7    -29.652    49.738  0.0001\n",
       "2        0.0       5.02         4.6     23.078    34.703  0.0001\n",
       "3        0.0       5.60        24.3    -10.544    30.328  0.0001\n",
       "4        0.0       5.50         2.7     19.881    37.587  0.0001\n",
       "...      ...        ...         ...        ...       ...     ...\n",
       "817246   0.0       5.20         5.0    -44.213    27.002  0.0001\n",
       "817247   0.0       5.16        13.3     10.110    45.196  0.0001\n",
       "817248   0.0       5.15        60.3     48.142    33.263  0.0001\n",
       "817249   0.0       5.40       114.9     24.971    36.428  0.0001\n",
       "817250   0.0       5.29        11.9     28.491    38.403  0.0001\n",
       "\n",
       "[817251 rows x 6 columns]"
      ]
     },
     "execution_count": 93,
     "metadata": {},
     "output_type": "execute_result"
    }
   ],
   "source": [
    "dataset"
   ]
  },
  {
   "cell_type": "code",
   "execution_count": 94,
   "id": "dfcbc600",
   "metadata": {},
   "outputs": [
    {
     "data": {
      "text/html": [
       "<div>\n",
       "<style scoped>\n",
       "    .dataframe tbody tr th:only-of-type {\n",
       "        vertical-align: middle;\n",
       "    }\n",
       "\n",
       "    .dataframe tbody tr th {\n",
       "        vertical-align: top;\n",
       "    }\n",
       "\n",
       "    .dataframe thead th {\n",
       "        text-align: right;\n",
       "    }\n",
       "</style>\n",
       "<table border=\"1\" class=\"dataframe\">\n",
       "  <thead>\n",
       "    <tr style=\"text-align: right;\">\n",
       "      <th></th>\n",
       "      <th>Loss</th>\n",
       "      <th>Magnitude</th>\n",
       "      <th>FocalDepth</th>\n",
       "      <th>Longitude</th>\n",
       "      <th>Latitude</th>\n",
       "    </tr>\n",
       "  </thead>\n",
       "  <tbody>\n",
       "    <tr>\n",
       "      <th>0</th>\n",
       "      <td>0.0</td>\n",
       "      <td>5.59</td>\n",
       "      <td>21.6</td>\n",
       "      <td>56.854</td>\n",
       "      <td>28.363</td>\n",
       "    </tr>\n",
       "    <tr>\n",
       "      <th>1</th>\n",
       "      <td>0.0</td>\n",
       "      <td>5.22</td>\n",
       "      <td>13.7</td>\n",
       "      <td>-29.652</td>\n",
       "      <td>49.738</td>\n",
       "    </tr>\n",
       "    <tr>\n",
       "      <th>2</th>\n",
       "      <td>0.0</td>\n",
       "      <td>5.02</td>\n",
       "      <td>4.6</td>\n",
       "      <td>23.078</td>\n",
       "      <td>34.703</td>\n",
       "    </tr>\n",
       "    <tr>\n",
       "      <th>3</th>\n",
       "      <td>0.0</td>\n",
       "      <td>5.60</td>\n",
       "      <td>24.3</td>\n",
       "      <td>-10.544</td>\n",
       "      <td>30.328</td>\n",
       "    </tr>\n",
       "    <tr>\n",
       "      <th>4</th>\n",
       "      <td>0.0</td>\n",
       "      <td>5.50</td>\n",
       "      <td>2.7</td>\n",
       "      <td>19.881</td>\n",
       "      <td>37.587</td>\n",
       "    </tr>\n",
       "    <tr>\n",
       "      <th>...</th>\n",
       "      <td>...</td>\n",
       "      <td>...</td>\n",
       "      <td>...</td>\n",
       "      <td>...</td>\n",
       "      <td>...</td>\n",
       "    </tr>\n",
       "    <tr>\n",
       "      <th>817246</th>\n",
       "      <td>0.0</td>\n",
       "      <td>5.20</td>\n",
       "      <td>5.0</td>\n",
       "      <td>-44.213</td>\n",
       "      <td>27.002</td>\n",
       "    </tr>\n",
       "    <tr>\n",
       "      <th>817247</th>\n",
       "      <td>0.0</td>\n",
       "      <td>5.16</td>\n",
       "      <td>13.3</td>\n",
       "      <td>10.110</td>\n",
       "      <td>45.196</td>\n",
       "    </tr>\n",
       "    <tr>\n",
       "      <th>817248</th>\n",
       "      <td>0.0</td>\n",
       "      <td>5.15</td>\n",
       "      <td>60.3</td>\n",
       "      <td>48.142</td>\n",
       "      <td>33.263</td>\n",
       "    </tr>\n",
       "    <tr>\n",
       "      <th>817249</th>\n",
       "      <td>0.0</td>\n",
       "      <td>5.40</td>\n",
       "      <td>114.9</td>\n",
       "      <td>24.971</td>\n",
       "      <td>36.428</td>\n",
       "    </tr>\n",
       "    <tr>\n",
       "      <th>817250</th>\n",
       "      <td>0.0</td>\n",
       "      <td>5.29</td>\n",
       "      <td>11.9</td>\n",
       "      <td>28.491</td>\n",
       "      <td>38.403</td>\n",
       "    </tr>\n",
       "  </tbody>\n",
       "</table>\n",
       "<p>817251 rows × 5 columns</p>\n",
       "</div>"
      ],
      "text/plain": [
       "        Loss  Magnitude  FocalDepth  Longitude  Latitude\n",
       "0        0.0       5.59        21.6     56.854    28.363\n",
       "1        0.0       5.22        13.7    -29.652    49.738\n",
       "2        0.0       5.02         4.6     23.078    34.703\n",
       "3        0.0       5.60        24.3    -10.544    30.328\n",
       "4        0.0       5.50         2.7     19.881    37.587\n",
       "...      ...        ...         ...        ...       ...\n",
       "817246   0.0       5.20         5.0    -44.213    27.002\n",
       "817247   0.0       5.16        13.3     10.110    45.196\n",
       "817248   0.0       5.15        60.3     48.142    33.263\n",
       "817249   0.0       5.40       114.9     24.971    36.428\n",
       "817250   0.0       5.29        11.9     28.491    38.403\n",
       "\n",
       "[817251 rows x 5 columns]"
      ]
     },
     "execution_count": 94,
     "metadata": {},
     "output_type": "execute_result"
    }
   ],
   "source": [
    "dataset.drop('Rate',axis=1, inplace= True)\n",
    "dataset"
   ]
  },
  {
   "cell_type": "code",
   "execution_count": 95,
   "id": "9b914a5f",
   "metadata": {},
   "outputs": [
    {
     "data": {
      "text/html": [
       "<div>\n",
       "<style scoped>\n",
       "    .dataframe tbody tr th:only-of-type {\n",
       "        vertical-align: middle;\n",
       "    }\n",
       "\n",
       "    .dataframe tbody tr th {\n",
       "        vertical-align: top;\n",
       "    }\n",
       "\n",
       "    .dataframe thead th {\n",
       "        text-align: right;\n",
       "    }\n",
       "</style>\n",
       "<table border=\"1\" class=\"dataframe\">\n",
       "  <thead>\n",
       "    <tr style=\"text-align: right;\">\n",
       "      <th></th>\n",
       "      <th>Magnitude</th>\n",
       "      <th>FocalDepth</th>\n",
       "      <th>Longitude</th>\n",
       "      <th>Latitude</th>\n",
       "    </tr>\n",
       "  </thead>\n",
       "  <tbody>\n",
       "    <tr>\n",
       "      <th>0</th>\n",
       "      <td>5.59</td>\n",
       "      <td>21.6</td>\n",
       "      <td>56.854</td>\n",
       "      <td>28.363</td>\n",
       "    </tr>\n",
       "    <tr>\n",
       "      <th>1</th>\n",
       "      <td>5.22</td>\n",
       "      <td>13.7</td>\n",
       "      <td>-29.652</td>\n",
       "      <td>49.738</td>\n",
       "    </tr>\n",
       "    <tr>\n",
       "      <th>2</th>\n",
       "      <td>5.02</td>\n",
       "      <td>4.6</td>\n",
       "      <td>23.078</td>\n",
       "      <td>34.703</td>\n",
       "    </tr>\n",
       "    <tr>\n",
       "      <th>3</th>\n",
       "      <td>5.60</td>\n",
       "      <td>24.3</td>\n",
       "      <td>-10.544</td>\n",
       "      <td>30.328</td>\n",
       "    </tr>\n",
       "    <tr>\n",
       "      <th>4</th>\n",
       "      <td>5.50</td>\n",
       "      <td>2.7</td>\n",
       "      <td>19.881</td>\n",
       "      <td>37.587</td>\n",
       "    </tr>\n",
       "    <tr>\n",
       "      <th>...</th>\n",
       "      <td>...</td>\n",
       "      <td>...</td>\n",
       "      <td>...</td>\n",
       "      <td>...</td>\n",
       "    </tr>\n",
       "    <tr>\n",
       "      <th>817246</th>\n",
       "      <td>5.20</td>\n",
       "      <td>5.0</td>\n",
       "      <td>-44.213</td>\n",
       "      <td>27.002</td>\n",
       "    </tr>\n",
       "    <tr>\n",
       "      <th>817247</th>\n",
       "      <td>5.16</td>\n",
       "      <td>13.3</td>\n",
       "      <td>10.110</td>\n",
       "      <td>45.196</td>\n",
       "    </tr>\n",
       "    <tr>\n",
       "      <th>817248</th>\n",
       "      <td>5.15</td>\n",
       "      <td>60.3</td>\n",
       "      <td>48.142</td>\n",
       "      <td>33.263</td>\n",
       "    </tr>\n",
       "    <tr>\n",
       "      <th>817249</th>\n",
       "      <td>5.40</td>\n",
       "      <td>114.9</td>\n",
       "      <td>24.971</td>\n",
       "      <td>36.428</td>\n",
       "    </tr>\n",
       "    <tr>\n",
       "      <th>817250</th>\n",
       "      <td>5.29</td>\n",
       "      <td>11.9</td>\n",
       "      <td>28.491</td>\n",
       "      <td>38.403</td>\n",
       "    </tr>\n",
       "  </tbody>\n",
       "</table>\n",
       "<p>817251 rows × 4 columns</p>\n",
       "</div>"
      ],
      "text/plain": [
       "        Magnitude  FocalDepth  Longitude  Latitude\n",
       "0            5.59        21.6     56.854    28.363\n",
       "1            5.22        13.7    -29.652    49.738\n",
       "2            5.02         4.6     23.078    34.703\n",
       "3            5.60        24.3    -10.544    30.328\n",
       "4            5.50         2.7     19.881    37.587\n",
       "...           ...         ...        ...       ...\n",
       "817246       5.20         5.0    -44.213    27.002\n",
       "817247       5.16        13.3     10.110    45.196\n",
       "817248       5.15        60.3     48.142    33.263\n",
       "817249       5.40       114.9     24.971    36.428\n",
       "817250       5.29        11.9     28.491    38.403\n",
       "\n",
       "[817251 rows x 4 columns]"
      ]
     },
     "execution_count": 95,
     "metadata": {},
     "output_type": "execute_result"
    }
   ],
   "source": [
    "dataset.drop('Loss',axis=1, inplace= True)\n",
    "dataset"
   ]
  },
  {
   "cell_type": "code",
   "execution_count": 96,
   "id": "e8f1f51b",
   "metadata": {},
   "outputs": [
    {
     "ename": "KeyError",
     "evalue": "\"None of [Index(['Loss'], dtype='object')] are in the [columns]\"",
     "output_type": "error",
     "traceback": [
      "\u001b[1;31m---------------------------------------------------------------------------\u001b[0m",
      "\u001b[1;31mKeyError\u001b[0m                                  Traceback (most recent call last)",
      "\u001b[1;32m~\\AppData\\Local\\Temp/ipykernel_2180/410275906.py\u001b[0m in \u001b[0;36m<module>\u001b[1;34m\u001b[0m\n\u001b[0;32m      1\u001b[0m \u001b[0mX\u001b[0m \u001b[1;33m=\u001b[0m \u001b[0mdataset\u001b[0m\u001b[1;33m[\u001b[0m\u001b[1;33m[\u001b[0m\u001b[1;34m'Magnitude'\u001b[0m\u001b[1;33m,\u001b[0m \u001b[1;34m'FocalDepth'\u001b[0m\u001b[1;33m,\u001b[0m\u001b[1;34m'Longitude'\u001b[0m \u001b[1;33m,\u001b[0m\u001b[1;34m'Latitude'\u001b[0m\u001b[1;33m]\u001b[0m\u001b[1;33m]\u001b[0m\u001b[1;33m\u001b[0m\u001b[1;33m\u001b[0m\u001b[0m\n\u001b[1;32m----> 2\u001b[1;33m \u001b[0my\u001b[0m \u001b[1;33m=\u001b[0m \u001b[0mdataset\u001b[0m\u001b[1;33m[\u001b[0m\u001b[1;33m[\u001b[0m\u001b[1;34m'Loss'\u001b[0m\u001b[1;33m]\u001b[0m\u001b[1;33m]\u001b[0m\u001b[1;33m\u001b[0m\u001b[1;33m\u001b[0m\u001b[0m\n\u001b[0m",
      "\u001b[1;32m~\\anaconda3\\lib\\site-packages\\pandas\\core\\frame.py\u001b[0m in \u001b[0;36m__getitem__\u001b[1;34m(self, key)\u001b[0m\n\u001b[0;32m   3462\u001b[0m             \u001b[1;32mif\u001b[0m \u001b[0mis_iterator\u001b[0m\u001b[1;33m(\u001b[0m\u001b[0mkey\u001b[0m\u001b[1;33m)\u001b[0m\u001b[1;33m:\u001b[0m\u001b[1;33m\u001b[0m\u001b[1;33m\u001b[0m\u001b[0m\n\u001b[0;32m   3463\u001b[0m                 \u001b[0mkey\u001b[0m \u001b[1;33m=\u001b[0m \u001b[0mlist\u001b[0m\u001b[1;33m(\u001b[0m\u001b[0mkey\u001b[0m\u001b[1;33m)\u001b[0m\u001b[1;33m\u001b[0m\u001b[1;33m\u001b[0m\u001b[0m\n\u001b[1;32m-> 3464\u001b[1;33m             \u001b[0mindexer\u001b[0m \u001b[1;33m=\u001b[0m \u001b[0mself\u001b[0m\u001b[1;33m.\u001b[0m\u001b[0mloc\u001b[0m\u001b[1;33m.\u001b[0m\u001b[0m_get_listlike_indexer\u001b[0m\u001b[1;33m(\u001b[0m\u001b[0mkey\u001b[0m\u001b[1;33m,\u001b[0m \u001b[0maxis\u001b[0m\u001b[1;33m=\u001b[0m\u001b[1;36m1\u001b[0m\u001b[1;33m)\u001b[0m\u001b[1;33m[\u001b[0m\u001b[1;36m1\u001b[0m\u001b[1;33m]\u001b[0m\u001b[1;33m\u001b[0m\u001b[1;33m\u001b[0m\u001b[0m\n\u001b[0m\u001b[0;32m   3465\u001b[0m \u001b[1;33m\u001b[0m\u001b[0m\n\u001b[0;32m   3466\u001b[0m         \u001b[1;31m# take() does not accept boolean indexers\u001b[0m\u001b[1;33m\u001b[0m\u001b[1;33m\u001b[0m\u001b[0m\n",
      "\u001b[1;32m~\\anaconda3\\lib\\site-packages\\pandas\\core\\indexing.py\u001b[0m in \u001b[0;36m_get_listlike_indexer\u001b[1;34m(self, key, axis)\u001b[0m\n\u001b[0;32m   1312\u001b[0m             \u001b[0mkeyarr\u001b[0m\u001b[1;33m,\u001b[0m \u001b[0mindexer\u001b[0m\u001b[1;33m,\u001b[0m \u001b[0mnew_indexer\u001b[0m \u001b[1;33m=\u001b[0m \u001b[0max\u001b[0m\u001b[1;33m.\u001b[0m\u001b[0m_reindex_non_unique\u001b[0m\u001b[1;33m(\u001b[0m\u001b[0mkeyarr\u001b[0m\u001b[1;33m)\u001b[0m\u001b[1;33m\u001b[0m\u001b[1;33m\u001b[0m\u001b[0m\n\u001b[0;32m   1313\u001b[0m \u001b[1;33m\u001b[0m\u001b[0m\n\u001b[1;32m-> 1314\u001b[1;33m         \u001b[0mself\u001b[0m\u001b[1;33m.\u001b[0m\u001b[0m_validate_read_indexer\u001b[0m\u001b[1;33m(\u001b[0m\u001b[0mkeyarr\u001b[0m\u001b[1;33m,\u001b[0m \u001b[0mindexer\u001b[0m\u001b[1;33m,\u001b[0m \u001b[0maxis\u001b[0m\u001b[1;33m)\u001b[0m\u001b[1;33m\u001b[0m\u001b[1;33m\u001b[0m\u001b[0m\n\u001b[0m\u001b[0;32m   1315\u001b[0m \u001b[1;33m\u001b[0m\u001b[0m\n\u001b[0;32m   1316\u001b[0m         if needs_i8_conversion(ax.dtype) or isinstance(\n",
      "\u001b[1;32m~\\anaconda3\\lib\\site-packages\\pandas\\core\\indexing.py\u001b[0m in \u001b[0;36m_validate_read_indexer\u001b[1;34m(self, key, indexer, axis)\u001b[0m\n\u001b[0;32m   1372\u001b[0m                 \u001b[1;32mif\u001b[0m \u001b[0muse_interval_msg\u001b[0m\u001b[1;33m:\u001b[0m\u001b[1;33m\u001b[0m\u001b[1;33m\u001b[0m\u001b[0m\n\u001b[0;32m   1373\u001b[0m                     \u001b[0mkey\u001b[0m \u001b[1;33m=\u001b[0m \u001b[0mlist\u001b[0m\u001b[1;33m(\u001b[0m\u001b[0mkey\u001b[0m\u001b[1;33m)\u001b[0m\u001b[1;33m\u001b[0m\u001b[1;33m\u001b[0m\u001b[0m\n\u001b[1;32m-> 1374\u001b[1;33m                 \u001b[1;32mraise\u001b[0m \u001b[0mKeyError\u001b[0m\u001b[1;33m(\u001b[0m\u001b[1;34mf\"None of [{key}] are in the [{axis_name}]\"\u001b[0m\u001b[1;33m)\u001b[0m\u001b[1;33m\u001b[0m\u001b[1;33m\u001b[0m\u001b[0m\n\u001b[0m\u001b[0;32m   1375\u001b[0m \u001b[1;33m\u001b[0m\u001b[0m\n\u001b[0;32m   1376\u001b[0m             \u001b[0mnot_found\u001b[0m \u001b[1;33m=\u001b[0m \u001b[0mlist\u001b[0m\u001b[1;33m(\u001b[0m\u001b[0mensure_index\u001b[0m\u001b[1;33m(\u001b[0m\u001b[0mkey\u001b[0m\u001b[1;33m)\u001b[0m\u001b[1;33m[\u001b[0m\u001b[0mmissing_mask\u001b[0m\u001b[1;33m.\u001b[0m\u001b[0mnonzero\u001b[0m\u001b[1;33m(\u001b[0m\u001b[1;33m)\u001b[0m\u001b[1;33m[\u001b[0m\u001b[1;36m0\u001b[0m\u001b[1;33m]\u001b[0m\u001b[1;33m]\u001b[0m\u001b[1;33m.\u001b[0m\u001b[0munique\u001b[0m\u001b[1;33m(\u001b[0m\u001b[1;33m)\u001b[0m\u001b[1;33m)\u001b[0m\u001b[1;33m\u001b[0m\u001b[1;33m\u001b[0m\u001b[0m\n",
      "\u001b[1;31mKeyError\u001b[0m: \"None of [Index(['Loss'], dtype='object')] are in the [columns]\""
     ]
    }
   ],
   "source": [
    "\n",
    "X = dataset[['Magnitude', 'FocalDepth','Longitude' ,'Latitude']]\n",
    "y = dataset[['Loss']]"
   ]
  },
  {
   "cell_type": "code",
   "execution_count": 76,
   "id": "b07122d7",
   "metadata": {},
   "outputs": [],
   "source": [
    "\n",
    "X_train, X_test, y_train, y_test = train_test_split(X, y, random_state=0)"
   ]
  },
  {
   "cell_type": "code",
   "execution_count": null,
   "id": "6091deb2",
   "metadata": {},
   "outputs": [],
   "source": []
  },
  {
   "cell_type": "code",
   "execution_count": 77,
   "id": "9a749f89",
   "metadata": {},
   "outputs": [],
   "source": [
    "from sklearn.preprocessing import StandardScaler\n",
    "sc = StandardScaler()\n",
    "X_train = sc.fit_transform(X_train)\n",
    "X_test = sc.transform(X_test)\n"
   ]
  },
  {
   "cell_type": "code",
   "execution_count": null,
   "id": "148e46f6",
   "metadata": {},
   "outputs": [],
   "source": []
  },
  {
   "cell_type": "markdown",
   "id": "b6a0c004",
   "metadata": {},
   "source": [
    "# Building the Artificial Neural Network"
   ]
  },
  {
   "cell_type": "code",
   "execution_count": 78,
   "id": "64464333",
   "metadata": {},
   "outputs": [],
   "source": [
    "from keras.models import Sequential\n",
    "from keras.layers import Dense\n",
    "from keras.layers import Dropout"
   ]
  },
  {
   "cell_type": "code",
   "execution_count": 79,
   "id": "ecd46d5a",
   "metadata": {},
   "outputs": [],
   "source": [
    "classifier = Sequential()"
   ]
  },
  {
   "cell_type": "code",
   "execution_count": 80,
   "id": "323158e7",
   "metadata": {},
   "outputs": [],
   "source": [
    "classifier.add(Dense(units = 128, kernel_initializer = 'uniform', activation = 'relu', input_dim = X.shape[1]))"
   ]
  },
  {
   "cell_type": "code",
   "execution_count": 81,
   "id": "b91a37a0",
   "metadata": {},
   "outputs": [],
   "source": [
    "classifier.add(Dense(units = 128, kernel_initializer = 'uniform', activation = 'relu'))"
   ]
  },
  {
   "cell_type": "code",
   "execution_count": 82,
   "id": "45c186c6",
   "metadata": {},
   "outputs": [],
   "source": [
    "classifier.add(Dense(units = 1, kernel_initializer = 'uniform', activation = 'sigmoid'))"
   ]
  },
  {
   "cell_type": "code",
   "execution_count": 83,
   "id": "464d5e66",
   "metadata": {},
   "outputs": [],
   "source": [
    "classifier.compile(optimizer = 'adam', loss = 'mean_squared_error', metrics = ['accuracy'])"
   ]
  },
  {
   "cell_type": "code",
   "execution_count": 84,
   "id": "575329b4",
   "metadata": {},
   "outputs": [
    {
     "name": "stdout",
     "output_type": "stream",
     "text": [
      "Epoch 1/10\n",
      "65380/65380 [==============================] - 118s 2ms/step - loss: 152341029700239360.0000 - accuracy: 0.3815\n",
      "Epoch 2/10\n",
      "65380/65380 [==============================] - 113s 2ms/step - loss: 152340359685341184.0000 - accuracy: 0.6386\n",
      "Epoch 3/10\n",
      "65380/65380 [==============================] - 110s 2ms/step - loss: 152340153526910976.0000 - accuracy: 0.5821\n",
      "Epoch 4/10\n",
      "65380/65380 [==============================] - 117s 2ms/step - loss: 152341287398277120.0000 - accuracy: 0.6699\n",
      "Epoch 5/10\n",
      "65380/65380 [==============================] - 119s 2ms/step - loss: 152337525006925824.0000 - accuracy: 0.5829\n",
      "Epoch 6/10\n",
      "65380/65380 [==============================] - 112s 2ms/step - loss: 152340995340500992.0000 - accuracy: 0.6090\n",
      "Epoch 7/10\n",
      "65380/65380 [==============================] - 113s 2ms/step - loss: 152340428404817920.0000 - accuracy: 0.6262\n",
      "Epoch 8/10\n",
      "65380/65380 [==============================] - 112s 2ms/step - loss: 152338332460777472.0000 - accuracy: 0.6416\n",
      "Epoch 9/10\n",
      "65380/65380 [==============================] - 112s 2ms/step - loss: 152340153526910976.0000 - accuracy: 0.6285\n",
      "Epoch 10/10\n",
      "65380/65380 [==============================] - 116s 2ms/step - loss: 152341819974221824.0000 - accuracy: 0.6009\n"
     ]
    }
   ],
   "source": [
    "history= classifier.fit(X_train, y_train, batch_size = 5, epochs = 10)"
   ]
  },
  {
   "cell_type": "code",
   "execution_count": 85,
   "id": "6024c250",
   "metadata": {},
   "outputs": [
    {
     "name": "stdout",
     "output_type": "stream",
     "text": [
      "5108/5108 [==============================] - 9s 2ms/step - loss: 171855711825821696.0000 - accuracy: 0.4785\n"
     ]
    },
    {
     "data": {
      "text/plain": [
       "[1.718557118258217e+17, 0.47848591208457947]"
      ]
     },
     "execution_count": 85,
     "metadata": {},
     "output_type": "execute_result"
    }
   ],
   "source": [
    "classifier.evaluate(X_test, y_test)"
   ]
  },
  {
   "cell_type": "code",
   "execution_count": null,
   "id": "2bbd1bd7",
   "metadata": {},
   "outputs": [],
   "source": []
  },
  {
   "cell_type": "code",
   "execution_count": 87,
   "id": "97745cec",
   "metadata": {},
   "outputs": [
    {
     "name": "stdout",
     "output_type": "stream",
     "text": [
      "            Loss\n",
      "392439       0.0\n",
      "117976       0.0\n",
      "813469       0.0\n",
      "774851       0.0\n",
      "157332  475527.0\n",
      "...          ...\n",
      "211301       0.0\n",
      "353381       0.0\n",
      "241179       0.0\n",
      "172408       0.0\n",
      "733613       0.0\n",
      "\n",
      "[163451 rows x 1 columns]\n"
     ]
    }
   ],
   "source": [
    "y_pred = classifier.predict(X_test)\n",
    "print(y_test)"
   ]
  },
  {
   "cell_type": "code",
   "execution_count": 88,
   "id": "bf607da3",
   "metadata": {},
   "outputs": [
    {
     "data": {
      "text/plain": [
       "array([[1.],\n",
       "       [1.],\n",
       "       [0.],\n",
       "       ...,\n",
       "       [0.],\n",
       "       [0.],\n",
       "       [0.]], dtype=float32)"
      ]
     },
     "execution_count": 88,
     "metadata": {},
     "output_type": "execute_result"
    }
   ],
   "source": [
    "y_pred"
   ]
  },
  {
   "cell_type": "code",
   "execution_count": 89,
   "id": "4b286671",
   "metadata": {},
   "outputs": [
    {
     "ename": "KeyError",
     "evalue": "'val_accuracy'",
     "output_type": "error",
     "traceback": [
      "\u001b[1;31m---------------------------------------------------------------------------\u001b[0m",
      "\u001b[1;31mKeyError\u001b[0m                                  Traceback (most recent call last)",
      "\u001b[1;32m~\\AppData\\Local\\Temp/ipykernel_2180/1656194346.py\u001b[0m in \u001b[0;36m<module>\u001b[1;34m\u001b[0m\n\u001b[0;32m      1\u001b[0m \u001b[0macc\u001b[0m\u001b[1;33m=\u001b[0m \u001b[0mhistory\u001b[0m\u001b[1;33m.\u001b[0m\u001b[0mhistory\u001b[0m\u001b[1;33m[\u001b[0m\u001b[1;34m'accuracy'\u001b[0m\u001b[1;33m]\u001b[0m\u001b[1;33m\u001b[0m\u001b[1;33m\u001b[0m\u001b[0m\n\u001b[1;32m----> 2\u001b[1;33m \u001b[0mval_acc\u001b[0m\u001b[1;33m=\u001b[0m\u001b[0mhistory\u001b[0m\u001b[1;33m.\u001b[0m\u001b[0mhistory\u001b[0m\u001b[1;33m[\u001b[0m\u001b[1;34m'val_accuracy'\u001b[0m\u001b[1;33m]\u001b[0m\u001b[1;33m\u001b[0m\u001b[1;33m\u001b[0m\u001b[0m\n\u001b[0m\u001b[0;32m      3\u001b[0m \u001b[1;33m\u001b[0m\u001b[0m\n\u001b[0;32m      4\u001b[0m \u001b[0mplt\u001b[0m\u001b[1;33m.\u001b[0m\u001b[0mplot\u001b[0m\u001b[1;33m(\u001b[0m\u001b[0mepochs\u001b[0m\u001b[1;33m,\u001b[0m\u001b[0macc\u001b[0m\u001b[1;33m,\u001b[0m \u001b[1;34m'y'\u001b[0m\u001b[1;33m,\u001b[0m \u001b[0mlabel\u001b[0m\u001b[1;33m=\u001b[0m \u001b[1;34m'Training acc'\u001b[0m\u001b[1;33m)\u001b[0m\u001b[1;33m\u001b[0m\u001b[1;33m\u001b[0m\u001b[0m\n\u001b[0;32m      5\u001b[0m \u001b[0mplt\u001b[0m\u001b[1;33m.\u001b[0m\u001b[0mplot\u001b[0m\u001b[1;33m(\u001b[0m\u001b[0mepochs\u001b[0m\u001b[1;33m,\u001b[0m \u001b[0mval_acc\u001b[0m\u001b[1;33m,\u001b[0m\u001b[1;34m'r'\u001b[0m\u001b[1;33m,\u001b[0m \u001b[0mlabel\u001b[0m\u001b[1;33m=\u001b[0m \u001b[1;34m'validation acc'\u001b[0m\u001b[1;33m)\u001b[0m\u001b[1;33m\u001b[0m\u001b[1;33m\u001b[0m\u001b[0m\n",
      "\u001b[1;31mKeyError\u001b[0m: 'val_accuracy'"
     ]
    }
   ],
   "source": [
    "acc= history.history['accuracy']\n",
    "val_acc=history.history['val_accuracy']\n",
    "\n",
    "plt.plot(epochs,acc, 'y', label= 'Training acc')\n",
    "plt.plot(epochs, val_acc,'r', label= 'validation acc')\n",
    "plt.title('Training and validation accuracy')\n",
    "plt.xlabel('epochs')\n",
    "plt.ylabel('accuracy')\n",
    "plt.legend()\n",
    "plt.show()"
   ]
  },
  {
   "cell_type": "code",
   "execution_count": null,
   "id": "5d1442c7",
   "metadata": {},
   "outputs": [],
   "source": []
  },
  {
   "cell_type": "code",
   "execution_count": null,
   "id": "0e5d87e9",
   "metadata": {},
   "outputs": [],
   "source": [
    "X=dataset.values[:,1:5]\n",
    "y=dataset.values[:,0]"
   ]
  }
 ],
 "metadata": {
  "kernelspec": {
   "display_name": "Python 3 (ipykernel)",
   "language": "python",
   "name": "python3"
  },
  "language_info": {
   "codemirror_mode": {
    "name": "ipython",
    "version": 3
   },
   "file_extension": ".py",
   "mimetype": "text/x-python",
   "name": "python",
   "nbconvert_exporter": "python",
   "pygments_lexer": "ipython3",
   "version": "3.9.7"
  }
 },
 "nbformat": 4,
 "nbformat_minor": 5
}
